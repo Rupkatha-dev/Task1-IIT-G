{
  "nbformat": 4,
  "nbformat_minor": 0,
  "metadata": {
    "colab": {
      "provenance": [],
      "gpuType": "T4",
      "authorship_tag": "ABX9TyNp4nIEKOPv8+OQHyqgZbtK",
      "include_colab_link": true
    },
    "kernelspec": {
      "name": "python3",
      "display_name": "Python 3"
    },
    "language_info": {
      "name": "python"
    },
    "accelerator": "GPU"
  },
  "cells": [
    {
      "cell_type": "markdown",
      "metadata": {
        "id": "view-in-github",
        "colab_type": "text"
      },
      "source": [
        "<a href=\"https://colab.research.google.com/github/Rupkatha-dev/Task1-IIT-G-/blob/main/MNIST_MLP%26CNN.ipynb\" target=\"_parent\"><img src=\"https://colab.research.google.com/assets/colab-badge.svg\" alt=\"Open In Colab\"/></a>"
      ]
    },
    {
      "cell_type": "markdown",
      "source": [
        "# MNIST Classification using Multi-Layer Perceptron(MLP) & Convulutional Neural network(CNN) in PyTorch"
      ],
      "metadata": {
        "id": "HksGOZp8SQlg"
      }
    },
    {
      "cell_type": "markdown",
      "source": [
        "## Import Libraries"
      ],
      "metadata": {
        "id": "xMAqrQeWSYbh"
      }
    },
    {
      "cell_type": "code",
      "execution_count": null,
      "metadata": {
        "id": "swhXJxIfzTJC"
      },
      "outputs": [],
      "source": [
        "import torch\n",
        "import torch.nn as nn\n",
        "import torch.optim as optim\n",
        "import torch.nn.functional as F\n",
        "from torchvision import datasets, transforms\n",
        "from torch.utils.data import DataLoader\n",
        "import matplotlib.pyplot as plt"
      ]
    },
    {
      "cell_type": "code",
      "source": [
        "# Downloading raw dataset without normalization\n",
        "raw_train = datasets.MNIST(root=\"./data\", train=True, download=True)\n",
        "\n",
        "print(\"Number of training samples:\", len(raw_train))\n",
        "print(\"Image shape (Height x Width):\", raw_train[0][0].size)\n",
        "print(\"Label of first image:\", raw_train[0][1])\n",
        "\n",
        "# Display one raw image\n",
        "plt.imshow(raw_train[0][0], cmap=\"gray\")\n",
        "plt.title(f\"Label: {raw_train[0][1]} (Before Preprocessing)\")\n",
        "plt.show()\n"
      ],
      "metadata": {
        "colab": {
          "base_uri": "https://localhost:8080/",
          "height": 504
        },
        "id": "Z8OOJFSiNkPM",
        "outputId": "bfba6c45-3f2c-4469-e81e-b91578789822"
      },
      "execution_count": null,
      "outputs": [
        {
          "output_type": "stream",
          "name": "stdout",
          "text": [
            "Number of training samples: 60000\n",
            "Image shape (Height x Width): (28, 28)\n",
            "Label of first image: 5\n"
          ]
        },
        {
          "output_type": "display_data",
          "data": {
            "text/plain": [
              "<Figure size 640x480 with 1 Axes>"
            ],
            "image/png": "[encoded data removed]"
          },
          "metadata": {}
        }
      ]
    },
    {
      "cell_type": "markdown",
      "source": [
        "Load and Preprocess MNIST Dataset\n",
        "\n",
        "Images are 28x28 grayscale.\n",
        "\n",
        "Normalize pixel values to [-1, 1]."
      ],
      "metadata": {
        "id": "kZ0RjzCyLBlW"
      }
    },
    {
      "cell_type": "code",
      "source": [
        "# Transform: Convert to Tensor + Normalize\n",
        "transform = transforms.Compose([\n",
        "    transforms.ToTensor(),\n",
        "    transforms.Normalize((0.5,), (0.5,))\n",
        "])\n",
        "\n",
        "# Load train & test datasets\n",
        "train_dataset = datasets.MNIST(root=\"./data\", train=True, transform=transform, download=True)\n",
        "test_dataset = datasets.MNIST(root=\"./data\", train=False, transform=transform, download=True)\n",
        "\n",
        "# DataLoader for batching\n",
        "train_loader = DataLoader(train_dataset, batch_size=64, shuffle=True)\n",
        "test_loader = DataLoader(test_dataset, batch_size=1000, shuffle=False)\n"
      ],
      "metadata": {
        "id": "rrYwea3RK9Wv"
      },
      "execution_count": null,
      "outputs": []
    },
    {
      "cell_type": "markdown",
      "source": [
        "Training the Model"
      ],
      "metadata": {
        "id": "pzUOFi1iMjY5"
      }
    },
    {
      "cell_type": "code",
      "source": [
        "def train_model(model, train_loader, criterion, optimizer, epochs=5):\n",
        "  for epoch in range(epochs):\n",
        "    model.train()\n",
        "    total_loss = 0\n",
        "    for batch_idx, (data, target) in enumerate(train_loader):\n",
        "        optimizer.zero_grad()\n",
        "        output = model(data)\n",
        "        loss = criterion(output, target)\n",
        "        loss.backward()\n",
        "        optimizer.step()\n",
        "        total_loss += loss.item()\n",
        "\n",
        "    print(f\"Epoch {epoch+1}/{epochs}, Loss: {total_loss/len(train_loader):.4f}\")\n"
      ],
      "metadata": {
        "id": "57Ucr3QGMmxy"
      },
      "execution_count": null,
      "outputs": []
    },
    {
      "cell_type": "markdown",
      "source": [
        "Evaluate the Model on Test Data"
      ],
      "metadata": {
        "id": "UcHjEZqsNKX9"
      }
    },
    {
      "cell_type": "code",
      "source": [
        "def evaluate_model(model, test_loader):\n",
        "  model.eval()\n",
        "  correct = 0\n",
        "  total = 0\n",
        "\n",
        "  with torch.no_grad():\n",
        "      for data, target in test_loader:\n",
        "          output = model(data)\n",
        "          _, predicted = torch.max(output, 1)\n",
        "          total += target.size(0)\n",
        "          correct += (predicted == target).sum().item()\n",
        "\n",
        "  accuracy = 100 * correct / total\n",
        "  print(f\"Test Accuracy: {accuracy:.2f}%\")\n",
        "  return accuracy\n"
      ],
      "metadata": {
        "id": "W-ETQx96NMFg"
      },
      "execution_count": null,
      "outputs": []
    },
    {
      "cell_type": "markdown",
      "source": [
        "Define MLP Model\n",
        "\n",
        "Input: 784 (28×28)\n",
        "\n",
        "Hidden Layers: 128 → 64\n",
        "\n",
        "Output: 10 classes (digits 0–9)"
      ],
      "metadata": {
        "id": "_y8wZiQFMWD3"
      }
    },
    {
      "cell_type": "code",
      "source": [
        "class MLP(nn.Module):\n",
        "    def __init__(self):\n",
        "        super(MLP, self).__init__()\n",
        "        self.fc1 = nn.Linear(28*28, 128)  # first hidden layer\n",
        "        self.fc2 = nn.Linear(128, 64)     # second hidden layer\n",
        "        self.fc3 = nn.Linear(64, 10)      # output layer\n",
        "\n",
        "    def forward(self, x):\n",
        "        x = x.view(-1, 28*28)     # flatten the image\n",
        "        x = F.relu(self.fc1(x))   # first hidden layer with ReLU\n",
        "        x = F.relu(self.fc2(x))   # second hidden layer with ReLU\n",
        "        x = self.fc3(x)           # output layer\n",
        "        return x\n",
        "\n",
        "mlp_model = MLP()"
      ],
      "metadata": {
        "id": "3mR-Bm5aMXS1"
      },
      "execution_count": null,
      "outputs": []
    },
    {
      "cell_type": "markdown",
      "source": [
        "Define Loss Function and Optimize"
      ],
      "metadata": {
        "id": "MEYIcQmqMgCT"
      }
    },
    {
      "cell_type": "code",
      "source": [
        "criterion = nn.CrossEntropyLoss()\n",
        "optimizer = optim.Adam(mlp_model.parameters(), lr=0.001)"
      ],
      "metadata": {
        "id": "m3H2cnfiMhFs"
      },
      "execution_count": null,
      "outputs": []
    },
    {
      "cell_type": "code",
      "source": [
        "print(\"\\n--- Training MLP ---\")\n",
        "train_model(mlp_model, train_loader, criterion, optimizer, epochs=5)\n",
        "print(\"--- Evaluating MLP ---\")\n",
        "evaluate_model(mlp_model, test_loader)"
      ],
      "metadata": {
        "colab": {
          "base_uri": "https://localhost:8080/"
        },
        "id": "xD3cIiZsa4NW",
        "outputId": "b78ea1f4-af21-45cc-89a0-776c0e759590"
      },
      "execution_count": null,
      "outputs": [
        {
          "output_type": "stream",
          "name": "stdout",
          "text": [
            "\n",
            "--- Training MLP ---\n",
            "Epoch 1/5, Loss: 0.3741\n",
            "Epoch 2/5, Loss: 0.1767\n",
            "Epoch 3/5, Loss: 0.1300\n",
            "Epoch 4/5, Loss: 0.1046\n",
            "Epoch 5/5, Loss: 0.0890\n",
            "--- Evaluating MLP ---\n",
            "Test Accuracy: 96.97%\n"
          ]
        }
      ]
    },
    {
      "cell_type": "markdown",
      "source": [
        "Predict a Single Image"
      ],
      "metadata": {
        "id": "T4DpdZibNPsm"
      }
    },
    {
      "cell_type": "code",
      "source": [
        "def predict_and_show(model, dataset, index=0):\n",
        "# Take one test sample\n",
        "  sample_img, sample_label = test_dataset[index]\n",
        "  plt.imshow(sample_img.squeeze(), cmap=\"gray\")\n",
        "  plt.title(f\"True Label: {sample_label}\")\n",
        "  plt.show()\n",
        "\n",
        "  # Model prediction\n",
        "  with torch.no_grad():\n",
        "      output = model(sample_img.unsqueeze(0))\n",
        "      _, pred = torch.max(output, 1)\n",
        "      print(f\"Predicted Label: {pred.item()}\")\n"
      ],
      "metadata": {
        "id": "3OjIakHVNQaF"
      },
      "execution_count": null,
      "outputs": []
    },
    {
      "cell_type": "code",
      "source": [
        "# Prediction with MLP\n",
        "print(\"Prediction with MLP:\")\n",
        "predict_and_show(mlp_model, test_dataset, index=69)"
      ],
      "metadata": {
        "colab": {
          "base_uri": "https://localhost:8080/",
          "height": 487
        },
        "id": "klZvOwNVcJPD",
        "outputId": "4156087d-24e3-4d77-bb47-2d2e3f8fe695"
      },
      "execution_count": null,
      "outputs": [
        {
          "output_type": "stream",
          "name": "stdout",
          "text": [
            "Prediction with MLP:\n"
          ]
        },
        {
          "output_type": "display_data",
          "data": {
            "text/plain": [
              "<Figure size 640x480 with 1 Axes>"
            ],
            "image/png": "[encoded data removed]"
          },
          "metadata": {}
        },
        {
          "output_type": "stream",
          "name": "stdout",
          "text": [
            "Predicted Label: 0\n"
          ]
        }
      ]
    },
    {
      "cell_type": "markdown",
      "source": [
        "cnn"
      ],
      "metadata": {
        "id": "tpv208-yS3_e"
      }
    },
    {
      "cell_type": "code",
      "source": [
        "class CNN(nn.Module):\n",
        "    def __init__(self):\n",
        "        super(CNN, self).__init__()\n",
        "        self.conv1 = nn.Conv2d(1, 32, kernel_size=3, padding=1)  # 28x28 → 32 maps\n",
        "        self.pool1 = nn.MaxPool2d(2, 2)                          # 28x28 → 14x14\n",
        "        self.conv2 = nn.Conv2d(32, 64, kernel_size=3, padding=1) # 14x14 → 64 maps\n",
        "        self.pool2 = nn.MaxPool2d(2, 2)                          # 14x14 → 7x7\n",
        "        self.fc1 = nn.Linear(64*7*7, 128)                        # fully connected\n",
        "        self.fc2 = nn.Linear(128, 10)                            # output\n",
        "\n",
        "    def forward(self, x):\n",
        "        x = F.relu(self.conv1(x))\n",
        "        x = self.pool1(x)\n",
        "        x = F.relu(self.conv2(x))\n",
        "        x = self.pool2(x)\n",
        "        x = x.view(-1, 64*7*7)  # flatten\n",
        "        x = F.relu(self.fc1(x))\n",
        "        x = self.fc2(x)\n",
        "        return x\n",
        "\n",
        "cnn_model = CNN()\n"
      ],
      "metadata": {
        "id": "5wqRcSSDiOxD"
      },
      "execution_count": null,
      "outputs": []
    },
    {
      "cell_type": "code",
      "source": [
        "criterion = nn.CrossEntropyLoss()\n",
        "optimizer = optim.Adam(cnn_model.parameters(), lr=0.001)"
      ],
      "metadata": {
        "id": "mqeisqFIiTiq"
      },
      "execution_count": null,
      "outputs": []
    },
    {
      "cell_type": "code",
      "source": [
        "print(\"\\n--- Training CNN ---\")\n",
        "train_model(cnn_model, train_loader, criterion, optimizer, epochs=5)\n",
        "print(\"--- Evaluating CNN ---\")\n",
        "evaluate_model(cnn_model, test_loader)"
      ],
      "metadata": {
        "colab": {
          "base_uri": "https://localhost:8080/"
        },
        "id": "YZMl-A3biWIk",
        "outputId": "bfd04c5c-0c91-4b56-bdd6-b190f21212fd"
      },
      "execution_count": null,
      "outputs": [
        {
          "output_type": "stream",
          "name": "stdout",
          "text": [
            "\n",
            "--- Training CNN ---\n",
            "Epoch 1/5, Loss: 0.1592\n",
            "Epoch 2/5, Loss: 0.0451\n",
            "Epoch 3/5, Loss: 0.0310\n",
            "Epoch 4/5, Loss: 0.0232\n",
            "Epoch 5/5, Loss: 0.0173\n",
            "--- Evaluating CNN ---\n",
            "Test Accuracy: 99.03%\n"
          ]
        }
      ]
    },
    {
      "cell_type": "code",
      "source": [
        "# Prediction with MLP\n",
        "print(\"Prediction with MLP:\")\n",
        "predict_and_show(cnn_model, test_dataset, index=34)"
      ],
      "metadata": {
        "colab": {
          "base_uri": "https://localhost:8080/",
          "height": 487
        },
        "id": "dXPrycd0ibd3",
        "outputId": "1d369594-e2c8-4867-dae7-6ddc41f5e708"
      },
      "execution_count": null,
      "outputs": [
        {
          "output_type": "stream",
          "name": "stdout",
          "text": [
            "Prediction with MLP:\n"
          ]
        },
        {
          "output_type": "display_data",
          "data": {
            "text/plain": [
              "<Figure size 640x480 with 1 Axes>"
            ],
            "image/png": "[encoded data removed]"
          },
          "metadata": {}
        },
        {
          "output_type": "stream",
          "name": "stdout",
          "text": [
            "Predicted Label: 7\n"
          ]
        }
      ]
    },
    {
      "cell_type": "code",
      "source": [
        "import matplotlib.pyplot as plt\n",
        "\n",
        "# Example: store results after evaluation\n",
        "mlp_acc = evaluate_model(mlp_model, test_loader)   # returns accuracy %\n",
        "cnn_acc = evaluate_model(cnn_model, test_loader)   # returns accuracy %\n",
        "\n",
        "# Create comparison chart\n",
        "models = [\"MLP\", \"CNN\"]\n",
        "accuracies = [mlp_acc, cnn_acc]\n",
        "\n",
        "plt.figure(figsize=(6,4))\n",
        "plt.bar(models, accuracies, color=[\"skyblue\", \"orange\"])\n",
        "plt.ylim(90, 100)  # zoom in between 90–100%\n",
        "plt.ylabel(\"Accuracy (%)\")\n",
        "plt.title(\"Comparison of Test Accuracy: MLP vs CNN\")\n",
        "for i, acc in enumerate(accuracies):\n",
        "    plt.text(i, acc+0.3, f\"{acc:.2f}%\", ha=\"center\", fontsize=12)\n",
        "plt.show()\n"
      ],
      "metadata": {
        "colab": {
          "base_uri": "https://localhost:8080/",
          "height": 426
        },
        "id": "cqsYxYIik5KT",
        "outputId": "01d0675c-ddc1-4385-add7-81fe004d0a1e"
      },
      "execution_count": 96,
      "outputs": [
        {
          "output_type": "stream",
          "name": "stdout",
          "text": [
            "Test Accuracy: 96.97%\n",
            "Test Accuracy: 99.03%\n"
          ]
        },
        {
          "output_type": "display_data",
          "data": {
            "text/plain": [
              "<Figure size 600x400 with 1 Axes>"
            ],
            "image/png": "[encoded data removed]"
          },
          "metadata": {}
        }
      ]
    }
  ]
}